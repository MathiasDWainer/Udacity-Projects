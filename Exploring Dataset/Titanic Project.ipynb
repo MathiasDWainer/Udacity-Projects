{
 "cells": [
  {
   "cell_type": "markdown",
   "metadata": {},
   "source": [
    "# Invesitigate a Dataset Project\n",
    "\n",
    "In this report we will be looking at the titanic dataset.\n",
    "\n",
    "Considering we all know the Titanic for its disaster (and movie) we should primarily look at what factors affected survival rate. Some questions we will explore will be:\n",
    "\n",
    "Which gender had higher survivability?\n",
    "\n",
    "How did age affect survivability?\n",
    "\n",
    "Did socio-econmic status affect survivability?\n",
    "\n",
    "\n"
   ]
  },
  {
   "cell_type": "code",
   "execution_count": 1,
   "metadata": {},
   "outputs": [
    {
     "name": "stdout",
     "output_type": "stream",
     "text": [
      "Populating the interactive namespace from numpy and matplotlib\n",
      "(891, 12)\n"
     ]
    }
   ],
   "source": [
    "#Importing the titanic dataset csv and finding number of records\n",
    "import matplotlib.pyplot as plt\n",
    "import numpy as np\n",
    "import pandas as pd\n",
    "import seaborn as sns\n",
    "%pylab inline\n",
    "titanic_df = pd.read_csv('titanic_data.csv')\n",
    "\n",
    "print(titanic_df.shape)"
   ]
  },
  {
   "cell_type": "markdown",
   "metadata": {},
   "source": [
    "## Data Wrangling and Cleaning:\n",
    "Since the ticket number is in multiple formats and has numbers as low as 600 and as high as 3.5 million we will delete this column as it will not provide any useful information for our purposes.\n",
    "\n",
    "Sex will be tranformed to 0 for female 1 for male.\n",
    "\n",
    "Cabin has multiple missing records but we want as many rows of data as possible so we wont remove missing records as they can be used elsewhere\n",
    "\n",
    "Rows where age is missing will be ommited when considering age as a variable."
   ]
  },
  {
   "cell_type": "code",
   "execution_count": 2,
   "metadata": {},
   "outputs": [
    {
     "name": "stdout",
     "output_type": "stream",
     "text": [
      "   PassengerId  Survived  Pclass  \\\n",
      "0            1         0       3   \n",
      "1            2         1       1   \n",
      "2            3         1       3   \n",
      "3            4         1       1   \n",
      "4            5         0       3   \n",
      "\n",
      "                                                Name  Sex   Age  SibSp  Parch  \\\n",
      "0                            Braund, Mr. Owen Harris    1  22.0      1      0   \n",
      "1  Cumings, Mrs. John Bradley (Florence Briggs Th...    0  38.0      1      0   \n",
      "2                             Heikkinen, Miss. Laina    0  26.0      0      0   \n",
      "3       Futrelle, Mrs. Jacques Heath (Lily May Peel)    0  35.0      1      0   \n",
      "4                           Allen, Mr. William Henry    1  35.0      0      0   \n",
      "\n",
      "      Fare Cabin Embarked  \n",
      "0   7.2500   NaN        S  \n",
      "1  71.2833   C85        C  \n",
      "2   7.9250   NaN        S  \n",
      "3  53.1000  C123        S  \n",
      "4   8.0500   NaN        S  \n"
     ]
    }
   ],
   "source": [
    "#following code in this cell can only run once without errors due to deletion.\n",
    "\n",
    "del titanic_df['Ticket'] # can only run once or error occurs\n",
    "\n",
    "titanic_df['Sex'].replace({'female':0, 'male':1},inplace=True)\n",
    "\n",
    "print(titanic_df.head())"
   ]
  },
  {
   "cell_type": "markdown",
   "metadata": {},
   "source": [
    "## Exploration"
   ]
  },
  {
   "cell_type": "markdown",
   "metadata": {},
   "source": [
    "Lets look at how many survived and the overall survival rate.\n"
   ]
  },
  {
   "cell_type": "code",
   "execution_count": 3,
   "metadata": {},
   "outputs": [
    {
     "name": "stdout",
     "output_type": "stream",
     "text": [
      "Of the 891 passengers only 342 survived.\n",
      "about 38% survived the disaster.\n"
     ]
    }
   ],
   "source": [
    "print('Of the {} passengers only {} survived.'.format(titanic_df.Survived.count(),titanic_df.Survived.sum()))\n",
    "print('about {:.0%} survived the disaster.'.format(titanic_df.Survived.mean()))\n"
   ]
  },
  {
   "cell_type": "markdown",
   "metadata": {
    "collapsed": true
   },
   "source": [
    "Lets now look at the correlation between gender and survivability and age vs survivability."
   ]
  },
  {
   "cell_type": "code",
   "execution_count": 4,
   "metadata": {
    "collapsed": true
   },
   "outputs": [],
   "source": [
    "def correlation(x,y):\n",
    "    std_x = (x-x.mean()) / x.std(ddof=0)\n",
    "    std_y = (y-y.mean()) / y.std(ddof=0)\n",
    "    \n",
    "    return((std_x * std_y).mean())"
   ]
  },
  {
   "cell_type": "code",
   "execution_count": 5,
   "metadata": {},
   "outputs": [
    {
     "name": "stdout",
     "output_type": "stream",
     "text": [
      "The correlation for gender vs. survivability is -0.543.\n",
      "The correlation for age vs. survivability is -0.078.\n"
     ]
    }
   ],
   "source": [
    "print('The correlation for gender vs. survivability is {:.3}.'\n",
    "      .format(correlation(titanic_df['Sex'],titanic_df['Survived'])))\n",
    "print('The correlation for age vs. survivability is {:.3}.'\n",
    "      .format(correlation(titanic_df['Age'],titanic_df['Survived'])))\n",
    "\n",
    "\n",
    "\n"
   ]
  },
  {
   "cell_type": "markdown",
   "metadata": {},
   "source": [
    "As expected there appears to be a correlation between gender and survivability. In this case being a male seems to lower survivability. Unexpectedly age does not appear to play a large role in survival."
   ]
  },
  {
   "cell_type": "markdown",
   "metadata": {},
   "source": [
    "Lets further explore age."
   ]
  },
  {
   "cell_type": "code",
   "execution_count": 6,
   "metadata": {},
   "outputs": [
    {
     "data": {
      "text/plain": [
       "count    714.000000\n",
       "mean      29.699118\n",
       "std       14.526497\n",
       "min        0.420000\n",
       "25%       20.125000\n",
       "50%       28.000000\n",
       "75%       38.000000\n",
       "max       80.000000\n",
       "Name: Age, dtype: float64"
      ]
     },
     "execution_count": 6,
     "metadata": {},
     "output_type": "execute_result"
    }
   ],
   "source": [
    "titanic_df.Age.describe(percentiles=None, include=None, exclude=None)\n"
   ]
  },
  {
   "cell_type": "code",
   "execution_count": 15,
   "metadata": {},
   "outputs": [
    {
     "data": {
      "text/plain": [
       "<matplotlib.text.Text at 0x2a8dfee9fd0>"
      ]
     },
     "execution_count": 15,
     "metadata": {},
     "output_type": "execute_result"
    },
    {
     "data": {
      "image/png": "[encoded data removed]",
      "text/plain": [
       "<matplotlib.figure.Figure at 0x2a8dfd63160>"
      ]
     },
     "metadata": {},
     "output_type": "display_data"
    }
   ],
   "source": [
    "plt.hist(titanic_df['Age'].dropna())\n",
    "plt.suptitle('Frequency of ages')\n",
    "plt.xlabel('Age in years')\n",
    "plt.ylabel('Number of passengers')\n"
   ]
  },
  {
   "cell_type": "markdown",
   "metadata": {},
   "source": [
    "We can see a normal looking distribution with a mean around 30. Graph confirms our description of the data.  Lets investigate whether dividing all ages into 3 age groups creates a stronger correlation."
   ]
  },
  {
   "cell_type": "code",
   "execution_count": 8,
   "metadata": {},
   "outputs": [
    {
     "name": "stdout",
     "output_type": "stream",
     "text": [
      "1\n",
      "0    2\n",
      "1    2\n",
      "2    2\n",
      "3    2\n",
      "4    2\n",
      "Name: Age, dtype: int64\n"
     ]
    }
   ],
   "source": [
    "#grouping age by children = 0, teens = 1 and over 18 = 2\n",
    "\n",
    "def age_to_binary(age):\n",
    "    if age <= 11 :\n",
    "        return 0\n",
    "    elif age <= 17:\n",
    "        return 1\n",
    "    else: \n",
    "        return 2\n",
    "    \n",
    "print(age_to_binary(titanic_df.Age[9])) #way to check code works\n",
    "\n",
    "def ages_to_binary(ages):\n",
    "    return titanic_df.Age.apply(age_to_binary)\n",
    "\n",
    "titanic_df.Ages = ages_to_binary(titanic_df.Age)\n",
    "\n",
    "print(titanic_df.Ages.head()) #verifying changes"
   ]
  },
  {
   "cell_type": "code",
   "execution_count": 9,
   "metadata": {},
   "outputs": [
    {
     "name": "stdout",
     "output_type": "stream",
     "text": [
      "The correlation for age groups vs. survivability is -0.126.\n"
     ]
    }
   ],
   "source": [
    "print('The correlation for age groups vs. survivability is {:.3}.'\n",
    "      .format(correlation(titanic_df.Ages,titanic_df['Survived'])))\n"
   ]
  },
  {
   "cell_type": "markdown",
   "metadata": {},
   "source": [
    "While the correlation became marginally stronger it is still not very strong. Gender seems to be a bigger factor than age. Perhaps because there are so few teens and children (as shown in chart above) the age variable becomes less important. \n",
    "\n",
    "Lets now look at passenger class."
   ]
  },
  {
   "cell_type": "code",
   "execution_count": 10,
   "metadata": {},
   "outputs": [
    {
     "name": "stdout",
     "output_type": "stream",
     "text": [
      "        PassengerId  Survived  Name  Sex  Age  SibSp  Parch  Fare  Cabin  \\\n",
      "Pclass                                                                     \n",
      "1               216       216   216  216  186    216    216   216    176   \n",
      "2               184       184   184  184  173    184    184   184     16   \n",
      "3               491       491   491  491  355    491    491   491     12   \n",
      "\n",
      "        Embarked  \n",
      "Pclass            \n",
      "1            214  \n",
      "2            184  \n",
      "3            491  \n"
     ]
    }
   ],
   "source": [
    "#titanic_df.Pclass.describe(percentiles=None, include=None, exclude=None)\n",
    "\n",
    "print(titanic_df.groupby('Pclass').count())"
   ]
  },
  {
   "cell_type": "markdown",
   "metadata": {},
   "source": [
    "There are more 3rd class passengers than 1st and 2nd combined."
   ]
  },
  {
   "cell_type": "code",
   "execution_count": 11,
   "metadata": {},
   "outputs": [
    {
     "name": "stdout",
     "output_type": "stream",
     "text": [
      "The correlation for Pclass vs. survivability is -0.338.\n",
      "The correlation for Fare Cost vs. survivability is 0.257.\n"
     ]
    }
   ],
   "source": [
    "#looking at passenger class correlation with survivability.\n",
    "print('The correlation for Pclass vs. survivability is {:.3}.'\n",
    "      .format(correlation(titanic_df['Pclass'],titanic_df['Survived'])))\n",
    "print('The correlation for Fare Cost vs. survivability is {:.3}.'\n",
    "      .format(correlation(titanic_df['Fare'],titanic_df['Survived'])))\n"
   ]
  },
  {
   "cell_type": "code",
   "execution_count": 16,
   "metadata": {},
   "outputs": [
    {
     "data": {
      "text/plain": [
       "<matplotlib.text.Text at 0x2a8dffc2518>"
      ]
     },
     "execution_count": 16,
     "metadata": {},
     "output_type": "execute_result"
    },
    {
     "data": {
      "image/png": "[encoded data removed]",
      "text/plain": [
       "<matplotlib.figure.Figure at 0x2a8dff074e0>"
      ]
     },
     "metadata": {},
     "output_type": "display_data"
    }
   ],
   "source": [
    "survived_rate =(titanic_df.groupby(['Pclass'],as_index = False).Survived.mean())\n",
    "survived_rate = pd.DataFrame(survived_rate)\n",
    "plt.bar(survived_rate['Pclass'],survived_rate['Survived'])\n",
    "plt.suptitle('Proportion of survival by class')\n",
    "plt.xlabel('Passenger class (1st,2nd,3rd)')\n",
    "plt.ylabel('Proportion that survived')"
   ]
  },
  {
   "cell_type": "markdown",
   "metadata": {},
   "source": [
    "As we can see passenger class does somewhat affect survival rate. We see the same slight correlation when we look at fare cost which we would expect to mirror the passenger class correlation. The graph agrees with our assesment of the correlation as most  passengers from the 1st class survived and for each subsequent class the percentage of survivors decreased. "
   ]
  },
  {
   "cell_type": "code",
   "execution_count": 13,
   "metadata": {},
   "outputs": [
    {
     "name": "stdout",
     "output_type": "stream",
     "text": [
      "   Pclass  Sex  Survived\n",
      "0       1    0  0.968085\n",
      "1       1    1  0.368852\n",
      "2       2    0  0.921053\n",
      "3       2    1  0.157407\n",
      "4       3    0  0.500000\n",
      "5       3    1  0.135447\n"
     ]
    }
   ],
   "source": [
    "survived_rates =(titanic_df.groupby(['Pclass','Sex'],as_index = False).Survived.mean())\n",
    "survived_rates = pd.DataFrame(survived_rates)\n",
    "print(survived_rates)"
   ]
  },
  {
   "cell_type": "markdown",
   "metadata": {},
   "source": [
    "As our last exploratory step we looked at how passenger class and sex affected survival together. We can see that nearly every female in our population of 1st class passengers survived (97%) closely followed by 92% of 2nd class women. After the females of 1st and 2nd class the survival rates in our population drops to 50% or less. It is important to note that subdiving our dataset into 6 groups may increase deviations as the sample size decreases (instead of n=819 it can be less than 50)."
   ]
  },
  {
   "cell_type": "markdown",
   "metadata": {},
   "source": [
    "## Conclusion:\n",
    "\n",
    "Preliminary analysis of the titanic data has provided some insights. Out of the variables of age, gender and social class it appears that gender and class have a larger effect than age. While this analysis cannot claim that gender and social class are dirrectly correlated with survival the analysis provides a path for further in-depth analysis. When age was divided into pre-teen, teen and adult categories the correlation became stronger, perhaps further subdividing may show age to play a larger factor.\n",
    "\n",
    "This report lacks analysis such as solving for the linear regression of the dataset as well as confidence intervals for all the findings. Future work needs to be done to verify any trends that were identified in this report"
   ]
  },
  {
   "cell_type": "code",
   "execution_count": null,
   "metadata": {
    "collapsed": true
   },
   "outputs": [],
   "source": []
  }
 ],
 "metadata": {
  "kernelspec": {
   "display_name": "Python 3",
   "language": "python",
   "name": "python3"
  },
  "language_info": {
   "codemirror_mode": {
    "name": "ipython",
    "version": 3
   },
   "file_extension": ".py",
   "mimetype": "text/x-python",
   "name": "python",
   "nbconvert_exporter": "python",
   "pygments_lexer": "ipython3",
   "version": "3.6.1"
  }
 },
 "nbformat": 4,
 "nbformat_minor": 2
}
